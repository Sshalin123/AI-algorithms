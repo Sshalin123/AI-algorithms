{
  "nbformat": 4,
  "nbformat_minor": 0,
  "metadata": {
    "colab": {
      "provenance": []
    },
    "kernelspec": {
      "name": "python3",
      "display_name": "Python 3"
    },
    "language_info": {
      "name": "python"
    }
  },
  "cells": [
    {
      "cell_type": "markdown",
      "source": [
        "Tabu Search\n",
        "\n",
        "Tabu search (TS) is an iterative neighborhood search algorithm, where the neighborhood changes dynamically.\n",
        "\n",
        "TS enhances local search by actively avoiding points in the search space already visited.\n",
        "\n",
        "By avoiding already visited points, loops in search trajectories are avoided and local optima can be escaped. TS can be considered as the combination of local search (LS) and memory structures.\n",
        "\n",
        "The main feature of TS is the use of an explicit memory.\n",
        "\n",
        "Uses of memory have two goals:  \n",
        "to prevent the search from revisiting previously visited solutions and to explore the unvisited areas of the solution space.\n",
        "\n"
      ],
      "metadata": {
        "id": "wzO_6qeLaeNg"
      }
    },
    {
      "cell_type": "code",
      "source": [
        "import networkx as nx\n",
        "import matplotlib.pyplot as plt\n",
        "import random\n",
        "import math\n",
        "from tqdm import tqdm"
      ],
      "metadata": {
        "id": "jugjZ4Q3cLf7"
      },
      "execution_count": 11,
      "outputs": []
    },
    {
      "cell_type": "code",
      "execution_count": 5,
      "metadata": {
        "id": "cp2nbLevaT-j"
      },
      "outputs": [],
      "source": [
        "def cost_of_tour(G, tour):\n",
        "    cost = 0\n",
        "    for u, v in zip(tour, tour[1:]):\n",
        "        cost += G[u][v][\"weight\"]\n",
        "    cost += G[len(tour) - 1][0][\"weight\"]\n",
        "    return cost"
      ]
    },
    {
      "cell_type": "code",
      "source": [
        "def get_best_neighbour(G, tour, tabu_history, tabu_limit, aspiration):\n",
        "    best_neighbour = None\n",
        "    best_neighbour_cost = math.inf\n",
        "    for i in range(len(G.nodes)):\n",
        "        for j in range(len(G.nodes)):\n",
        "            if i == j:\n",
        "                continue\n",
        "            tmp_route = tour.copy()\n",
        "            tmp = tmp_route[i]\n",
        "            tmp_route[i] = tmp_route[j]\n",
        "            tmp_route[j] = tmp\n",
        "            tmp_cost = cost_of_tour(G, tmp_route)\n",
        "            if tuple(tmp_route) in tabu_history:\n",
        "                if tabu_history[tuple(tmp_route)] > 0:\n",
        "                    if tabu_history[tuple(tmp_route)] > aspiration:\n",
        "                        continue\n",
        "            if tmp_cost < best_neighbour_cost:\n",
        "                best_neighbour_cost = tmp_cost\n",
        "                best_neighbour = tmp_route\n",
        "                tabu_history[tuple(best_neighbour)] = tabu_limit\n",
        "    return best_neighbour\n"
      ],
      "metadata": {
        "id": "i_KRUKNxa2AQ"
      },
      "execution_count": 6,
      "outputs": []
    },
    {
      "cell_type": "code",
      "source": [
        "def tabu_search(\n",
        "    G,\n",
        "    initial_solution,\n",
        "    num_iter,\n",
        "    tabu_history,\n",
        "    tabu_limit,\n",
        "    aspiration,\n",
        "    cost_function,\n",
        "    neighbour_function,\n",
        "    use_historical_best=False,\n",
        "    use_tqdm=False\n",
        "):\n",
        "    best_solution = initial_solution\n",
        "    historical_best = best_solution\n",
        "    historical_best_cost = cost_function(G, historical_best)\n",
        "    best_cost = cost_function(G, best_solution)\n",
        "    states = [best_cost]\n",
        "    if use_tqdm:\n",
        "        pbar = tqdm(total=num_iter)\n",
        "    for _ in range(num_iter):\n",
        "        if use_tqdm:\n",
        "            pbar.update()\n",
        "        for x in tabu_history:\n",
        "            tabu_history[x] -= 1\n",
        "        tabu_history = {x: tabu_history[x] for x in tabu_history if tabu_history[x] > 0}\n",
        "        best_solution = neighbour_function(\n",
        "            G, best_solution, tabu_history, tabu_limit, aspiration\n",
        "        )\n",
        "        best_cost = cost_function(G, best_solution)\n",
        "        if best_cost <= historical_best_cost:\n",
        "            historical_best = best_solution\n",
        "            historical_best_cost = best_cost\n",
        "        states.append(best_cost)\n",
        "    return best_solution, best_cost, states\n"
      ],
      "metadata": {
        "id": "e-tzVRAfa2Gh"
      },
      "execution_count": 7,
      "outputs": []
    },
    {
      "cell_type": "code",
      "source": [
        "G = nx.complete_graph(10)\n",
        "for (u, v) in G.edges():\n",
        "    G[u][v][\"weight\"] = random.randint(1, 100)\n",
        "\n",
        "aspiration = 2\n",
        "tabu_history = {}\n",
        "num_iterations = 100\n",
        "tabu_limit = 5\n",
        "\n",
        "initial_solution = list(G.nodes())\n",
        "random.shuffle(initial_solution)\n",
        "initial_cost = cost_of_tour(G, initial_solution)\n",
        "print(f\"Initial solution: {initial_solution}\")\n",
        "print(f\"Initial cost: {initial_cost}\")\n",
        "\n",
        "best_solution, best_cost, states = tabu_search(\n",
        "    G,\n",
        "    initial_solution,\n",
        "    num_iterations,\n",
        "    tabu_history,\n",
        "    tabu_limit,\n",
        "    aspiration,\n",
        "    cost_of_tour,\n",
        "    get_best_neighbour,\n",
        "    use_tqdm=True\n",
        ")\n",
        "\n",
        "print(f\"Best Solution: {best_solution}\")\n",
        "print(f\"Best Cost: {best_cost}\")\n",
        "\n",
        "plt.figure(figsize=(10, 5))\n",
        "plt.plot(states)\n",
        "plt.xlabel(\"Iteration\")\n",
        "plt.ylabel(\"Tour Cost\")\n",
        "plt.title(\"Tabu Search Progress\")\n",
        "plt.grid(True)\n",
        "plt.show()\n"
      ],
      "metadata": {
        "colab": {
          "base_uri": "https://localhost:8080/",
          "height": 574
        },
        "id": "625GSOoja2Jb",
        "outputId": "374bb3be-a2ff-4173-b4c1-b2e8d31495d6"
      },
      "execution_count": 10,
      "outputs": [
        {
          "output_type": "stream",
          "name": "stdout",
          "text": [
            "Initial solution: [0, 4, 2, 1, 6, 5, 3, 7, 9, 8]\n",
            "Initial cost: 598\n"
          ]
        },
        {
          "output_type": "stream",
          "name": "stderr",
          "text": [
            "100%|██████████| 100/100 [00:00<00:00, 2691.50it/s]"
          ]
        },
        {
          "output_type": "stream",
          "name": "stdout",
          "text": [
            "Best Solution: [0, 7, 2, 5, 9, 6, 8, 4, 3, 1]\n",
            "Best Cost: 249\n"
          ]
        },
        {
          "output_type": "stream",
          "name": "stderr",
          "text": [
            "\n"
          ]
        },
        {
          "output_type": "display_data",
          "data": {
            "text/plain": [
              "<Figure size 1000x500 with 1 Axes>"
            ],
            "image/png": "[encoded data removed]"
          },
          "metadata": {}
        }
      ]
    },
    {
      "cell_type": "code",
      "source": [],
      "metadata": {
        "id": "sEVZp8Kda2Ma"
      },
      "execution_count": null,
      "outputs": []
    },
    {
      "cell_type": "code",
      "source": [],
      "metadata": {
        "id": "CY0nx_Goa2PH"
      },
      "execution_count": null,
      "outputs": []
    },
    {
      "cell_type": "code",
      "source": [],
      "metadata": {
        "id": "DJuabQlGa2SR"
      },
      "execution_count": null,
      "outputs": []
    },
    {
      "cell_type": "code",
      "source": [],
      "metadata": {
        "id": "XITmK5CXa2Wj"
      },
      "execution_count": null,
      "outputs": []
    },
    {
      "cell_type": "code",
      "source": [],
      "metadata": {
        "id": "aTLlWnLLa2Z_"
      },
      "execution_count": null,
      "outputs": []
    }
  ]
}