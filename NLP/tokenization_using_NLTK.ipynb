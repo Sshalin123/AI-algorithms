{
  "cells": [
    {
      "cell_type": "code",
      "metadata": {
        "colab": {
          "base_uri": "https://localhost:8080/"
        },
        "id": "56a202b5",
        "outputId": "0c035ffc-4421-4aa4-c9a1-a1152ab96c21"
      },
      "source": [
        "import nltk\n",
        "nltk.download('punkt_tab')"
      ],
      "execution_count": 11,
      "outputs": [
        {
          "output_type": "stream",
          "name": "stderr",
          "text": [
            "[nltk_data] Downloading package punkt_tab to /root/nltk_data...\n",
            "[nltk_data]   Unzipping tokenizers/punkt_tab.zip.\n"
          ]
        },
        {
          "output_type": "execute_result",
          "data": {
            "text/plain": [
              "True"
            ]
          },
          "metadata": {},
          "execution_count": 11
        }
      ]
    },
    {
      "cell_type": "code",
      "execution_count": 6,
      "metadata": {
        "colab": {
          "base_uri": "https://localhost:8080/"
        },
        "id": "uqP47FIMe6y5",
        "outputId": "f4dc33ac-38fd-485d-cbe5-0ed534865486"
      },
      "outputs": [
        {
          "output_type": "stream",
          "name": "stdout",
          "text": [
            "Requirement already satisfied: nltk in /usr/local/lib/python3.11/dist-packages (3.9.1)\n",
            "Requirement already satisfied: click in /usr/local/lib/python3.11/dist-packages (from nltk) (8.2.1)\n",
            "Requirement already satisfied: joblib in /usr/local/lib/python3.11/dist-packages (from nltk) (1.5.1)\n",
            "Requirement already satisfied: regex>=2021.8.3 in /usr/local/lib/python3.11/dist-packages (from nltk) (2024.11.6)\n",
            "Requirement already satisfied: tqdm in /usr/local/lib/python3.11/dist-packages (from nltk) (4.67.1)\n"
          ]
        }
      ],
      "source": [
        "!pip install nltk"
      ]
    },
    {
      "cell_type": "code",
      "execution_count": 12,
      "metadata": {
        "id": "v9DAogvXe6zG"
      },
      "outputs": [],
      "source": [
        "corpus=\"\"\"Hello Welcome,to shalin github .\n",
        "go through the entire file to get the idea about what tokenization is will be doing this with nltk library\n",
        "\n",
        "\"\"\""
      ]
    },
    {
      "cell_type": "code",
      "execution_count": 8,
      "metadata": {
        "colab": {
          "base_uri": "https://localhost:8080/"
        },
        "id": "fz8CYHOMe6zI",
        "outputId": "584251e3-e0a6-4389-dde7-468d2af38882"
      },
      "outputs": [
        {
          "output_type": "stream",
          "name": "stdout",
          "text": [
            "Hello Welcome,to shalin github .\n",
            "go through the entire file to get the idea about what tokenization is will be doing this with nltk library\n",
            "\n",
            "\n"
          ]
        }
      ],
      "source": [
        "print(corpus)"
      ]
    },
    {
      "cell_type": "code",
      "execution_count": 13,
      "metadata": {
        "id": "-qld0yGBe6zJ"
      },
      "outputs": [],
      "source": [
        "##  Tokenization\n",
        "## Sentence-->paragraphs\n",
        "from nltk.tokenize import sent_tokenize"
      ]
    },
    {
      "cell_type": "code",
      "execution_count": 14,
      "metadata": {
        "id": "N8c5VIeCe6zL"
      },
      "outputs": [],
      "source": [
        "documents=sent_tokenize(corpus)"
      ]
    },
    {
      "cell_type": "code",
      "execution_count": 15,
      "metadata": {
        "colab": {
          "base_uri": "https://localhost:8080/"
        },
        "id": "u_dK8d4Ze6zM",
        "outputId": "93d2ca2c-0222-4c94-b620-f6bbbc535478"
      },
      "outputs": [
        {
          "output_type": "execute_result",
          "data": {
            "text/plain": [
              "list"
            ]
          },
          "metadata": {},
          "execution_count": 15
        }
      ],
      "source": [
        "type(documents)"
      ]
    },
    {
      "cell_type": "code",
      "execution_count": 16,
      "metadata": {
        "colab": {
          "base_uri": "https://localhost:8080/"
        },
        "id": "mVbDcOgfe6zN",
        "outputId": "551b9c30-bfe0-4888-e9a2-004d3f9ed537"
      },
      "outputs": [
        {
          "output_type": "stream",
          "name": "stdout",
          "text": [
            "Hello Welcome,to shalin github .\n",
            "go through the entire file to get the idea about what tokenization is will be doing this with nltk library\n"
          ]
        }
      ],
      "source": [
        "for sentence in documents:\n",
        "    print(sentence)"
      ]
    },
    {
      "cell_type": "code",
      "execution_count": 18,
      "metadata": {
        "id": "oPAWOiVoe6zP"
      },
      "outputs": [],
      "source": [
        "## tokenization\n",
        "## Paragraph -> words\n",
        "## sentence  -> words\n",
        "from nltk.tokenize import word_tokenize"
      ]
    },
    {
      "cell_type": "code",
      "execution_count": 19,
      "metadata": {
        "colab": {
          "base_uri": "https://localhost:8080/"
        },
        "id": "jwUakBA5e6zQ",
        "outputId": "177f68ba-162e-4ac7-993e-fbb760806174"
      },
      "outputs": [
        {
          "output_type": "execute_result",
          "data": {
            "text/plain": [
              "['Hello',\n",
              " 'Welcome',\n",
              " ',',\n",
              " 'to',\n",
              " 'shalin',\n",
              " 'github',\n",
              " '.',\n",
              " 'go',\n",
              " 'through',\n",
              " 'the',\n",
              " 'entire',\n",
              " 'file',\n",
              " 'to',\n",
              " 'get',\n",
              " 'the',\n",
              " 'idea',\n",
              " 'about',\n",
              " 'what',\n",
              " 'tokenization',\n",
              " 'is',\n",
              " 'will',\n",
              " 'be',\n",
              " 'doing',\n",
              " 'this',\n",
              " 'with',\n",
              " 'nltk',\n",
              " 'library']"
            ]
          },
          "metadata": {},
          "execution_count": 19
        }
      ],
      "source": [
        "word_tokenize(corpus)"
      ]
    },
    {
      "cell_type": "code",
      "execution_count": 20,
      "metadata": {
        "colab": {
          "base_uri": "https://localhost:8080/"
        },
        "id": "Mn_yJ3dge6zR",
        "outputId": "a0744ca8-0640-427f-820a-06c47d1a2020"
      },
      "outputs": [
        {
          "output_type": "stream",
          "name": "stdout",
          "text": [
            "['Hello', 'Welcome', ',', 'to', 'shalin', 'github', '.']\n",
            "['go', 'through', 'the', 'entire', 'file', 'to', 'get', 'the', 'idea', 'about', 'what', 'tokenization', 'is', 'will', 'be', 'doing', 'this', 'with', 'nltk', 'library']\n"
          ]
        }
      ],
      "source": [
        "for sentence in documents:\n",
        "    print(word_tokenize(sentence))"
      ]
    },
    {
      "cell_type": "code",
      "execution_count": 21,
      "metadata": {
        "id": "FSlhd5qhe6zT"
      },
      "outputs": [],
      "source": [
        "from nltk.tokenize import wordpunct_tokenize"
      ]
    },
    {
      "cell_type": "code",
      "execution_count": 22,
      "metadata": {
        "colab": {
          "base_uri": "https://localhost:8080/"
        },
        "id": "zuDT3EdCe6zT",
        "outputId": "1497a498-3b00-47d1-8181-e3b2b9de5a17"
      },
      "outputs": [
        {
          "output_type": "execute_result",
          "data": {
            "text/plain": [
              "['Hello',\n",
              " 'Welcome',\n",
              " ',',\n",
              " 'to',\n",
              " 'shalin',\n",
              " 'github',\n",
              " '.',\n",
              " 'go',\n",
              " 'through',\n",
              " 'the',\n",
              " 'entire',\n",
              " 'file',\n",
              " 'to',\n",
              " 'get',\n",
              " 'the',\n",
              " 'idea',\n",
              " 'about',\n",
              " 'what',\n",
              " 'tokenization',\n",
              " 'is',\n",
              " 'will',\n",
              " 'be',\n",
              " 'doing',\n",
              " 'this',\n",
              " 'with',\n",
              " 'nltk',\n",
              " 'library']"
            ]
          },
          "metadata": {},
          "execution_count": 22
        }
      ],
      "source": [
        "wordpunct_tokenize(corpus)"
      ]
    },
    {
      "cell_type": "code",
      "execution_count": 23,
      "metadata": {
        "id": "9CV_HpuNe6zU"
      },
      "outputs": [],
      "source": [
        "from nltk.tokenize import TreebankWordTokenizer"
      ]
    },
    {
      "cell_type": "code",
      "execution_count": 24,
      "metadata": {
        "id": "C3Lu8v2he6zU"
      },
      "outputs": [],
      "source": [
        "tokenizer=TreebankWordTokenizer()"
      ]
    },
    {
      "cell_type": "code",
      "execution_count": 25,
      "metadata": {
        "colab": {
          "base_uri": "https://localhost:8080/"
        },
        "id": "6KZug1Aoe6zV",
        "outputId": "ccbc24e4-54bc-4658-f642-e8dfd578babf"
      },
      "outputs": [
        {
          "output_type": "execute_result",
          "data": {
            "text/plain": [
              "['Hello',\n",
              " 'Welcome',\n",
              " ',',\n",
              " 'to',\n",
              " 'shalin',\n",
              " 'github',\n",
              " '.',\n",
              " 'go',\n",
              " 'through',\n",
              " 'the',\n",
              " 'entire',\n",
              " 'file',\n",
              " 'to',\n",
              " 'get',\n",
              " 'the',\n",
              " 'idea',\n",
              " 'about',\n",
              " 'what',\n",
              " 'tokenization',\n",
              " 'is',\n",
              " 'will',\n",
              " 'be',\n",
              " 'doing',\n",
              " 'this',\n",
              " 'with',\n",
              " 'nltk',\n",
              " 'library']"
            ]
          },
          "metadata": {},
          "execution_count": 25
        }
      ],
      "source": [
        "tokenizer.tokenize(corpus)"
      ]
    },
    {
      "cell_type": "code",
      "execution_count": null,
      "metadata": {
        "id": "-a56JhGhe6zW"
      },
      "outputs": [],
      "source": []
    },
    {
      "cell_type": "code",
      "execution_count": null,
      "metadata": {
        "id": "GJejt7sme6zW"
      },
      "outputs": [],
      "source": []
    },
    {
      "cell_type": "code",
      "execution_count": null,
      "metadata": {
        "id": "viRQIebDe6zW"
      },
      "outputs": [],
      "source": []
    }
  ],
  "metadata": {
    "kernelspec": {
      "display_name": "Python 3",
      "language": "python",
      "name": "python3"
    },
    "language_info": {
      "codemirror_mode": {
        "name": "ipython",
        "version": 3
      },
      "file_extension": ".py",
      "mimetype": "text/x-python",
      "name": "python",
      "nbconvert_exporter": "python",
      "pygments_lexer": "ipython3",
      "version": "3.8.5"
    },
    "colab": {
      "provenance": []
    }
  },
  "nbformat": 4,
  "nbformat_minor": 0
}
