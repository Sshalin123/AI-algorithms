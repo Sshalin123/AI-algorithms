{
  "nbformat": 4,
  "nbformat_minor": 0,
  "metadata": {
    "colab": {
      "provenance": []
    },
    "kernelspec": {
      "name": "python3",
      "display_name": "Python 3"
    },
    "language_info": {
      "name": "python"
    }
  },
  "cells": [
    {
      "cell_type": "code",
      "source": [
        "!pip install osmnx\n",
        "!pip install smart-mobility-utilities"
      ],
      "metadata": {
        "colab": {
          "base_uri": "https://localhost:8080/"
        },
        "id": "4Ocja9gkazTK",
        "outputId": "af501498-6232-4940-e797-0a8cf13a7ba6"
      },
      "execution_count": 2,
      "outputs": [
        {
          "output_type": "stream",
          "name": "stdout",
          "text": [
            "Collecting osmnx\n",
            "  Downloading osmnx-2.0.4-py3-none-any.whl.metadata (4.9 kB)\n",
            "Requirement already satisfied: geopandas>=1.0 in /usr/local/lib/python3.11/dist-packages (from osmnx) (1.0.1)\n",
            "Requirement already satisfied: networkx>=2.5 in /usr/local/lib/python3.11/dist-packages (from osmnx) (3.5)\n",
            "Requirement already satisfied: numpy>=1.22 in /usr/local/lib/python3.11/dist-packages (from osmnx) (2.0.2)\n",
            "Requirement already satisfied: pandas>=1.4 in /usr/local/lib/python3.11/dist-packages (from osmnx) (2.2.2)\n",
            "Requirement already satisfied: requests>=2.27 in /usr/local/lib/python3.11/dist-packages (from osmnx) (2.32.3)\n",
            "Requirement already satisfied: shapely>=2.0 in /usr/local/lib/python3.11/dist-packages (from osmnx) (2.1.1)\n",
            "Requirement already satisfied: pyogrio>=0.7.2 in /usr/local/lib/python3.11/dist-packages (from geopandas>=1.0->osmnx) (0.11.0)\n",
            "Requirement already satisfied: packaging in /usr/local/lib/python3.11/dist-packages (from geopandas>=1.0->osmnx) (24.2)\n",
            "Requirement already satisfied: pyproj>=3.3.0 in /usr/local/lib/python3.11/dist-packages (from geopandas>=1.0->osmnx) (3.7.1)\n",
            "Requirement already satisfied: python-dateutil>=2.8.2 in /usr/local/lib/python3.11/dist-packages (from pandas>=1.4->osmnx) (2.9.0.post0)\n",
            "Requirement already satisfied: pytz>=2020.1 in /usr/local/lib/python3.11/dist-packages (from pandas>=1.4->osmnx) (2025.2)\n",
            "Requirement already satisfied: tzdata>=2022.7 in /usr/local/lib/python3.11/dist-packages (from pandas>=1.4->osmnx) (2025.2)\n",
            "Requirement already satisfied: charset-normalizer<4,>=2 in /usr/local/lib/python3.11/dist-packages (from requests>=2.27->osmnx) (3.4.2)\n",
            "Requirement already satisfied: idna<4,>=2.5 in /usr/local/lib/python3.11/dist-packages (from requests>=2.27->osmnx) (3.10)\n",
            "Requirement already satisfied: urllib3<3,>=1.21.1 in /usr/local/lib/python3.11/dist-packages (from requests>=2.27->osmnx) (2.4.0)\n",
            "Requirement already satisfied: certifi>=2017.4.17 in /usr/local/lib/python3.11/dist-packages (from requests>=2.27->osmnx) (2025.4.26)\n",
            "Requirement already satisfied: six>=1.5 in /usr/local/lib/python3.11/dist-packages (from python-dateutil>=2.8.2->pandas>=1.4->osmnx) (1.17.0)\n",
            "Downloading osmnx-2.0.4-py3-none-any.whl (100 kB)\n",
            "\u001b[2K   \u001b[90m━━━━━━━━━━━━━━━━━━━━━━━━━━━━━━━━━━━━━━━━\u001b[0m \u001b[32m100.5/100.5 kB\u001b[0m \u001b[31m3.0 MB/s\u001b[0m eta \u001b[36m0:00:00\u001b[0m\n",
            "\u001b[?25hInstalling collected packages: osmnx\n",
            "Successfully installed osmnx-2.0.4\n",
            "\u001b[31mERROR: Could not find a version that satisfies the requirement smart-mobility-utilities (from versions: none)\u001b[0m\u001b[31m\n",
            "\u001b[0m\u001b[31mERROR: No matching distribution found for smart-mobility-utilities\u001b[0m\u001b[31m\n",
            "\u001b[0m"
          ]
        }
      ]
    },
    {
      "cell_type": "code",
      "execution_count": null,
      "metadata": {
        "id": "Fe_DW44qT8Kt"
      },
      "outputs": [],
      "source": [
        "import osmnx\n",
        "from smart_mobility_utilities.common import Node, cost\n",
        "from smart_mobility_utilities.viz import draw_route\n",
        "import random\n",
        "from tqdm.notebook import tqdm\n",
        "import matplotlib.pyplot as plt\n",
        "reference = (43.661667, -79.395)\n",
        "G = osmnx.graph_from_point(reference, dist=300, clean_periphery = True, simplify=True)\n",
        "origin = Node(graph=G, osmid=55808290)\n",
        "destination = Node(graph=G, osmid=389677909)\n",
        "highlighted = [389677909, 55808290]\n",
        "nc = ['red' if node in highlighted else '#336699' for node in G.nodes()]\n",
        "ns = [50 if node in highlighted else 8 for node in G.nodes()]\n",
        "fig, ax = osmnx.plot_graph(G, node_size=ns, node_color=nc, node_zorder=2)\n",
        "alpha = 2\n",
        "beta = 2\n",
        "n = 500\n",
        "Q = 1\n",
        "pheremone_concentrations = dict()\n",
        "known_routes = dict()\n",
        "pheremone_concentrations = {(u,v):random.uniform(0,0.5) for [u,v] in G.edges()}\n",
        "def pheremone(level, distance, alpha, beta):\n",
        "    return level ** alpha * ((1/distance)) ** beta\n",
        "for ant in tqdm(range(n)):\n",
        "    frontier = [origin]\n",
        "    explored = set()\n",
        "    route = []\n",
        "    found = False\n",
        "    while frontier and not found:\n",
        "        parent = frontier.pop(0)\n",
        "        explored.add(parent)\n",
        "        children = []\n",
        "        children_pheremones = []\n",
        "        for child in parent.expand():\n",
        "            if child == destination:\n",
        "                found = True\n",
        "                route = child.path()\n",
        "                continue\n",
        "            if child not in explored:\n",
        "                children.append(child)\n",
        "                children_pheremones.append(\n",
        "                    pheremone(\n",
        "                        pheremone_concentrations[(parent.osmid, child.osmid)],\n",
        "                        child.distance,\n",
        "                        alpha,\n",
        "                        beta,\n",
        "                    )\n",
        "                )\n",
        "        if len(children) == 0:\n",
        "            continue\n",
        "        transition_probability = [\n",
        "            children_pheremones[i] / sum(children_pheremones)\n",
        "            for i in range(len(children_pheremones))\n",
        "        ]\n",
        "        chosen = random.choices(children, weights=transition_probability, k=1)[0]\n",
        "        children.pop(children.index(chosen))\n",
        "        frontier.extend(children)\n",
        "        frontier.insert(0, chosen)\n",
        "    for u, v in zip(route[:-1], route[1:]):\n",
        "        length_of_edge = G[u][v][0]['length']\n",
        "        pheremone_concentrations[(u,v)] += Q/length_of_edge\n",
        "    route = tuple(route)\n",
        "    if route in known_routes:\n",
        "        known_routes[route] += 1\n",
        "    else:\n",
        "        known_routes[route] = 1\n",
        "best_route = max(known_routes, key= known_routes.get)\n",
        "times_used = known_routes[best_route]\n",
        "route = list(best_route)\n",
        "print(\"Cost:\", cost(G,route))\n",
        "print(\"Times used:\",times_used)\n",
        "draw_route(G,route)\n",
        "costs = [cost(G,r) for r in known_routes]\n",
        "used = list(known_routes.values())\n",
        "costs, used = zip(*sorted(zip(costs,used)))\n",
        "plt.plot(costs, used)\n",
        "plt.xlabel('Solution cost')\n",
        "plt.ylabel('Times travelled')\n",
        "plt.show()"
      ]
    }
  ]
}